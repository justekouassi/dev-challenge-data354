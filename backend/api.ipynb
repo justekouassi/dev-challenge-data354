{
 "cells": [
  {
   "cell_type": "code",
   "execution_count": 1,
   "metadata": {},
   "outputs": [],
   "source": [
    "import requests"
   ]
  },
  {
   "attachments": {},
   "cell_type": "markdown",
   "metadata": {},
   "source": [
    "Entrées : \n",
    "- station (188 ou 189)\n",
    "- intervalle de dates \n",
    "- intervalle d'heure\n",
    "- date d'un jour"
   ]
  },
  {
   "cell_type": "code",
   "execution_count": 12,
   "metadata": {},
   "outputs": [],
   "source": [
    "URL_API = \"https://airqino-api.magentalab.it/\"\n",
    "\n",
    "url_get_range = URL_API + \"getRange/SMART188/2023-02-14/2023-02-15\"\n",
    "url_get_current_values = URL_API + \"getCurrentValues/SMART188\"\n",
    "url_get_single_day = URL_API + \"getSingleDay/SMART189/2023-02-20\""
   ]
  },
  {
   "cell_type": "code",
   "execution_count": 17,
   "metadata": {},
   "outputs": [],
   "source": [
    "url = url_get_range"
   ]
  },
  {
   "cell_type": "code",
   "execution_count": 18,
   "metadata": {},
   "outputs": [],
   "source": [
    "reponse = requests.get(url, timeout=60).json()"
   ]
  },
  {
   "cell_type": "code",
   "execution_count": 13,
   "metadata": {},
   "outputs": [
    {
     "name": "stdout",
     "output_type": "stream",
     "text": [
      "[{'project_name': 'AQ54', 'station_id': 283164601, 'station_name': 'SMART188', 'latitude': 5.335679633333332, 'longitude': -3.978218983333333}, {'project_name': 'AQ54', 'station_id': 283181971, 'station_name': 'SMART189', 'latitude': 5.335681300000001, 'longitude': -3.9782132333333333}]\n"
     ]
    }
   ],
   "source": [
    "# print(reponse[0]['project_name'])\n",
    "print(reponse)"
   ]
  }
 ],
 "metadata": {
  "kernelspec": {
   "display_name": "Python 3",
   "language": "python",
   "name": "python3"
  },
  "language_info": {
   "codemirror_mode": {
    "name": "ipython",
    "version": 3
   },
   "file_extension": ".py",
   "mimetype": "text/x-python",
   "name": "python",
   "nbconvert_exporter": "python",
   "pygments_lexer": "ipython3",
   "version": "3.11.2"
  },
  "orig_nbformat": 4,
  "vscode": {
   "interpreter": {
    "hash": "984f0d32ec04950e2fefa43e7d38885b8e5f7ace114fa5bde7896afdbe1d6c9f"
   }
  }
 },
 "nbformat": 4,
 "nbformat_minor": 2
}
